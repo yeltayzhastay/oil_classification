{
 "cells": [
  {
   "cell_type": "markdown",
   "metadata": {},
   "source": [
    "### Importing dataset"
   ]
  },
  {
   "cell_type": "code",
   "execution_count": 3,
   "metadata": {},
   "outputs": [],
   "source": [
    "import pandas as pd\n",
    "import numpy as np\n",
    "\n",
    "import seaborn as sns\n",
    "import matplotlib.pyplot as plt\n",
    "\n",
    "plt.rcParams[\"figure.figsize\"] = (8, 6)\n",
    "pd.options.display.max_rows = 10\n",
    "\n",
    "import os"
   ]
  },
  {
   "cell_type": "markdown",
   "metadata": {},
   "source": [
    "### Reading Dataset"
   ]
  },
  {
   "cell_type": "code",
   "execution_count": 4,
   "metadata": {},
   "outputs": [
    {
     "name": "stdout",
     "output_type": "stream",
     "text": [
      "['Class', 'etta', 'Kviews', 'PORO', 'TIME', 'VISC_OIL']\n"
     ]
    }
   ],
   "source": [
    "train_path = os.path.join(os.path.abspath(os.getcwd()), 'data for ml\\\\k2')\n",
    "test_path = os.path.join(os.path.abspath(os.getcwd()), 'data for ml\\\\k1')\n",
    "\n",
    "features = ['Class', 'etta', 'Kviews', 'PORO', 'TIME', 'VISC_OIL',]\n",
    "print(features)"
   ]
  },
  {
   "cell_type": "code",
   "execution_count": 5,
   "metadata": {},
   "outputs": [],
   "source": [
    "train = []\n",
    "for feature in features:\n",
    "    with open(os.path.join(train_path, feature + '.txt')) as f:\n",
    "        content = f.readlines()\n",
    "    content = [float(x.strip()) for x in content]\n",
    "    train.append(content)\n",
    "    \n",
    "test = []\n",
    "for feature in features:\n",
    "    with open(os.path.join(test_path, feature + '.txt')) as f:\n",
    "        content = f.readlines()\n",
    "    content = [float(x.strip()) for x in content]\n",
    "    test.append(content)"
   ]
  },
  {
   "cell_type": "code",
   "execution_count": 6,
   "metadata": {},
   "outputs": [
    {
     "data": {
      "text/html": [
       "<div>\n",
       "<style scoped>\n",
       "    .dataframe tbody tr th:only-of-type {\n",
       "        vertical-align: middle;\n",
       "    }\n",
       "\n",
       "    .dataframe tbody tr th {\n",
       "        vertical-align: top;\n",
       "    }\n",
       "\n",
       "    .dataframe thead th {\n",
       "        text-align: right;\n",
       "    }\n",
       "</style>\n",
       "<table border=\"1\" class=\"dataframe\">\n",
       "  <thead>\n",
       "    <tr style=\"text-align: right;\">\n",
       "      <th></th>\n",
       "      <th>Class</th>\n",
       "      <th>etta</th>\n",
       "      <th>Kviews</th>\n",
       "      <th>PORO</th>\n",
       "      <th>TIME</th>\n",
       "      <th>VISC_OIL</th>\n",
       "    </tr>\n",
       "  </thead>\n",
       "  <tbody>\n",
       "    <tr>\n",
       "      <th>0</th>\n",
       "      <td>1.0</td>\n",
       "      <td>0.004099</td>\n",
       "      <td>2.0</td>\n",
       "      <td>0.13089</td>\n",
       "      <td>0.0</td>\n",
       "      <td>0.414938</td>\n",
       "    </tr>\n",
       "    <tr>\n",
       "      <th>1</th>\n",
       "      <td>1.0</td>\n",
       "      <td>0.028301</td>\n",
       "      <td>2.0</td>\n",
       "      <td>0.13089</td>\n",
       "      <td>200.0</td>\n",
       "      <td>0.414938</td>\n",
       "    </tr>\n",
       "    <tr>\n",
       "      <th>2</th>\n",
       "      <td>1.0</td>\n",
       "      <td>0.049026</td>\n",
       "      <td>2.0</td>\n",
       "      <td>0.13089</td>\n",
       "      <td>400.0</td>\n",
       "      <td>0.414938</td>\n",
       "    </tr>\n",
       "    <tr>\n",
       "      <th>3</th>\n",
       "      <td>1.0</td>\n",
       "      <td>0.068843</td>\n",
       "      <td>2.0</td>\n",
       "      <td>0.13089</td>\n",
       "      <td>600.0</td>\n",
       "      <td>0.414938</td>\n",
       "    </tr>\n",
       "    <tr>\n",
       "      <th>4</th>\n",
       "      <td>1.0</td>\n",
       "      <td>0.087731</td>\n",
       "      <td>2.0</td>\n",
       "      <td>0.13089</td>\n",
       "      <td>800.0</td>\n",
       "      <td>0.414938</td>\n",
       "    </tr>\n",
       "  </tbody>\n",
       "</table>\n",
       "</div>"
      ],
      "text/plain": [
       "   Class      etta  Kviews     PORO   TIME  VISC_OIL\n",
       "0    1.0  0.004099     2.0  0.13089    0.0  0.414938\n",
       "1    1.0  0.028301     2.0  0.13089  200.0  0.414938\n",
       "2    1.0  0.049026     2.0  0.13089  400.0  0.414938\n",
       "3    1.0  0.068843     2.0  0.13089  600.0  0.414938\n",
       "4    1.0  0.087731     2.0  0.13089  800.0  0.414938"
      ]
     },
     "execution_count": 6,
     "metadata": {},
     "output_type": "execute_result"
    }
   ],
   "source": [
    "train = pd.DataFrame(train).T\n",
    "train.columns = features\n",
    "train = train[train['Class'] < 8.1]\n",
    "train.head(5)"
   ]
  },
  {
   "cell_type": "code",
   "execution_count": 7,
   "metadata": {},
   "outputs": [
    {
     "data": {
      "text/html": [
       "<div>\n",
       "<style scoped>\n",
       "    .dataframe tbody tr th:only-of-type {\n",
       "        vertical-align: middle;\n",
       "    }\n",
       "\n",
       "    .dataframe tbody tr th {\n",
       "        vertical-align: top;\n",
       "    }\n",
       "\n",
       "    .dataframe thead th {\n",
       "        text-align: right;\n",
       "    }\n",
       "</style>\n",
       "<table border=\"1\" class=\"dataframe\">\n",
       "  <thead>\n",
       "    <tr style=\"text-align: right;\">\n",
       "      <th></th>\n",
       "      <th>Class</th>\n",
       "      <th>etta</th>\n",
       "      <th>Kviews</th>\n",
       "      <th>PORO</th>\n",
       "      <th>TIME</th>\n",
       "      <th>VISC_OIL</th>\n",
       "    </tr>\n",
       "  </thead>\n",
       "  <tbody>\n",
       "    <tr>\n",
       "      <th>0</th>\n",
       "      <td>1.0</td>\n",
       "      <td>0.004140</td>\n",
       "      <td>1.0</td>\n",
       "      <td>0.13089</td>\n",
       "      <td>0.0</td>\n",
       "      <td>0.414938</td>\n",
       "    </tr>\n",
       "    <tr>\n",
       "      <th>1</th>\n",
       "      <td>1.0</td>\n",
       "      <td>0.033697</td>\n",
       "      <td>1.0</td>\n",
       "      <td>0.13089</td>\n",
       "      <td>200.0</td>\n",
       "      <td>0.414938</td>\n",
       "    </tr>\n",
       "    <tr>\n",
       "      <th>2</th>\n",
       "      <td>1.0</td>\n",
       "      <td>0.060086</td>\n",
       "      <td>1.0</td>\n",
       "      <td>0.13089</td>\n",
       "      <td>400.0</td>\n",
       "      <td>0.414938</td>\n",
       "    </tr>\n",
       "    <tr>\n",
       "      <th>3</th>\n",
       "      <td>1.0</td>\n",
       "      <td>0.085833</td>\n",
       "      <td>1.0</td>\n",
       "      <td>0.13089</td>\n",
       "      <td>600.0</td>\n",
       "      <td>0.414938</td>\n",
       "    </tr>\n",
       "    <tr>\n",
       "      <th>4</th>\n",
       "      <td>2.0</td>\n",
       "      <td>0.111229</td>\n",
       "      <td>1.0</td>\n",
       "      <td>0.13089</td>\n",
       "      <td>800.0</td>\n",
       "      <td>0.414938</td>\n",
       "    </tr>\n",
       "  </tbody>\n",
       "</table>\n",
       "</div>"
      ],
      "text/plain": [
       "   Class      etta  Kviews     PORO   TIME  VISC_OIL\n",
       "0    1.0  0.004140     1.0  0.13089    0.0  0.414938\n",
       "1    1.0  0.033697     1.0  0.13089  200.0  0.414938\n",
       "2    1.0  0.060086     1.0  0.13089  400.0  0.414938\n",
       "3    1.0  0.085833     1.0  0.13089  600.0  0.414938\n",
       "4    2.0  0.111229     1.0  0.13089  800.0  0.414938"
      ]
     },
     "execution_count": 7,
     "metadata": {},
     "output_type": "execute_result"
    }
   ],
   "source": [
    "test = pd.DataFrame(test).T\n",
    "test.columns = features\n",
    "test = test[test['Class'] < 8.1]\n",
    "test.head(5)"
   ]
  },
  {
   "cell_type": "markdown",
   "metadata": {},
   "source": [
    "### X, y splitting"
   ]
  },
  {
   "cell_type": "code",
   "execution_count": 8,
   "metadata": {},
   "outputs": [
    {
     "name": "stdout",
     "output_type": "stream",
     "text": [
      "(66621, 5) (66621,)\n",
      "(67240, 5) (67240,)\n"
     ]
    }
   ],
   "source": [
    "X_train, y_train = train.drop('Class', axis=1), train['Class']\n",
    "X_test, y_test = test.drop('Class', axis=1), test['Class']\n",
    "print(X_train.shape, y_train.shape)\n",
    "print(X_test.shape, y_test.shape)"
   ]
  },
  {
   "cell_type": "markdown",
   "metadata": {},
   "source": [
    "### Training data"
   ]
  },
  {
   "cell_type": "code",
   "execution_count": 9,
   "metadata": {},
   "outputs": [],
   "source": [
    "from sklearn.metrics import classification_report, confusion_matrix, roc_auc_score"
   ]
  },
  {
   "cell_type": "code",
   "execution_count": 10,
   "metadata": {},
   "outputs": [],
   "source": [
    "import itertools\n",
    "\n",
    "def plot_classification_report(classificationReport,\n",
    "                               title='Classification report',\n",
    "                               cmap='RdBu'):\n",
    "    df = pd.DataFrame(classificationReport).T.iloc[:,:3]\n",
    "    df.style.background_gradient(cmap='viridis',\n",
    "                             subset=pd.IndexSlice['0':'9', :'f1-score'])\n",
    "    return df"
   ]
  },
  {
   "cell_type": "code",
   "execution_count": 11,
   "metadata": {},
   "outputs": [],
   "source": [
    "def encoder_to_cat(y):\n",
    "    return pd.get_dummies(y, columns=[\"drive_wheels\"]).values"
   ]
  },
  {
   "cell_type": "code",
   "execution_count": 12,
   "metadata": {},
   "outputs": [],
   "source": [
    "from sklearn.metrics import roc_curve, auc\n",
    "\n",
    "def plotting_auc_curve(y_test, predict_proba, title):\n",
    "    fpr = dict()\n",
    "    tpr = dict()\n",
    "    roc_auc = dict()\n",
    "    for i in range(8):\n",
    "        fpr[i], tpr[i], _ = roc_curve(encoder_to_cat(y_test)[:, i], predict_proba[:, i])\n",
    "        roc_auc[i] = auc(fpr[i], tpr[i])\n",
    "\n",
    "    # Plot of a ROC curve for a specific class\n",
    "    plt.figure()\n",
    "    for i in range(8):\n",
    "        plt.plot(fpr[i], tpr[i], label= 'Class:'+str(i)+'\\nROC curve (area = %0.4f)' % roc_auc[i])\n",
    "    \n",
    "    plt.plot([0, 1], [0, 1], 'k--')\n",
    "    plt.xlim([-0.05, 1.05])\n",
    "    plt.ylim([-0.05, 1.05])\n",
    "    plt.xlabel('False Positive Rate')\n",
    "    plt.ylabel('True Positive Rate')\n",
    "    plt.legend(loc=\"lower right\")\n",
    "    plt.title(title)"
   ]
  },
  {
   "cell_type": "markdown",
   "metadata": {},
   "source": [
    "### LR"
   ]
  },
  {
   "cell_type": "code",
   "execution_count": 14,
   "metadata": {},
   "outputs": [
    {
     "name": "stderr",
     "output_type": "stream",
     "text": [
      "c:\\users\\yelzha\\appdata\\local\\programs\\python\\python37\\lib\\site-packages\\sklearn\\linear_model\\logistic.py:433: FutureWarning: Default solver will be changed to 'lbfgs' in 0.22. Specify a solver to silence this warning.\n",
      "  FutureWarning)\n",
      "c:\\users\\yelzha\\appdata\\local\\programs\\python\\python37\\lib\\site-packages\\sklearn\\linear_model\\logistic.py:460: FutureWarning: Default multi_class will be changed to 'auto' in 0.22. Specify the multi_class option to silence this warning.\n",
      "  \"this warning.\", FutureWarning)\n",
      "c:\\users\\yelzha\\appdata\\local\\programs\\python\\python37\\lib\\site-packages\\sklearn\\linear_model\\logistic.py:1300: UserWarning: 'n_jobs' > 1 does not have any effect when 'solver' is set to 'liblinear'. Got 'n_jobs' = 8.\n",
      "  \" = {}.\".format(effective_n_jobs(self.n_jobs)))\n"
     ]
    },
    {
     "name": "stdout",
     "output_type": "stream",
     "text": [
      "              precision    recall  f1-score   support\n",
      "\n",
      "         1.0       0.89      0.81      0.85      5540\n",
      "         2.0       0.51      0.41      0.45      5361\n",
      "         3.0       0.37      0.04      0.06      5678\n",
      "         4.0       0.37      0.49      0.42      8981\n",
      "         5.0       0.51      0.21      0.30     12814\n",
      "         6.0       0.49      0.60      0.54     13762\n",
      "         7.0       0.00      0.00      0.00     11692\n",
      "         8.0       0.21      0.99      0.35      3412\n",
      "\n",
      "   micro avg       0.38      0.38      0.38     67240\n",
      "   macro avg       0.42      0.44      0.37     67240\n",
      "weighted avg       0.40      0.38      0.35     67240\n",
      "\n",
      "[[4479  711    0  350    0    0    0    0]\n",
      " [ 564 2194    0 2603    0    0    0    0]\n",
      " [   0 1121  199 4351    7    0    0    0]\n",
      " [   0  262  317 4371 2587   61 1383    0]\n",
      " [   0   19   21  157 2676 4585 5274   82]\n",
      " [   0    0    0    0    0 8293  713 4756]\n",
      " [   0    0    0    0    0 4105    0 7587]\n",
      " [   0    0    0    0    0   47    0 3365]]\n"
     ]
    }
   ],
   "source": [
    "from sklearn.linear_model import LogisticRegression\n",
    "lr = LogisticRegression(n_jobs=-1)\n",
    "lr.fit(X_train, y_train)\n",
    "\n",
    "predictions = lr.predict(X_test)\n",
    "\n",
    "print(classification_report(y_test, predictions))\n",
    "\n",
    "print(confusion_matrix(y_test, predictions))"
   ]
  },
  {
   "cell_type": "markdown",
   "metadata": {},
   "source": [
    "### Neural Network"
   ]
  },
  {
   "cell_type": "code",
   "execution_count": 1,
   "metadata": {},
   "outputs": [
    {
     "name": "stderr",
     "output_type": "stream",
     "text": [
      "Using TensorFlow backend.\n"
     ]
    }
   ],
   "source": [
    "from sklearn.preprocessing import OneHotEncoder\n",
    "from keras import Sequential\n",
    "from keras.layers import *\n",
    "from sklearn.preprocessing import StandardScaler\n",
    "\n",
    "def nn_model_training(X_train, y_train_cat, epochs=20, validation_split=0.01):\n",
    "    classifier = Sequential()\n",
    "    classifier.add(Dense(32, activation='relu', input_dim=X_train.shape[1]))\n",
    "    classifier.add(Dense(64, activation='relu'))\n",
    "    classifier.add(Dense(128, activation='relu'))\n",
    "    classifier.add(Dense(64, activation='relu'))\n",
    "    classifier.add(Dense(32, activation='relu'))\n",
    "    classifier.add(Dense(16, activation='relu'))\n",
    "    classifier.add(Dense(y_train_cat.shape[1], activation='softmax'))\n",
    "    \n",
    "    classifier.compile(optimizer ='adam',loss='mse', metrics =['accuracy'])\n",
    "    history = classifier.fit(X_train, y_train_cat, epochs=epochs, validation_split=validation_split)\n",
    "    \n",
    "    return classifier, history"
   ]
  },
  {
   "cell_type": "code",
   "execution_count": 2,
   "metadata": {},
   "outputs": [
    {
     "ename": "NameError",
     "evalue": "name 'y_train' is not defined",
     "output_type": "error",
     "traceback": [
      "\u001b[1;31m---------------------------------------------------------------------------\u001b[0m",
      "\u001b[1;31mNameError\u001b[0m                                 Traceback (most recent call last)",
      "\u001b[1;32m<ipython-input-2-056cbe833fdf>\u001b[0m in \u001b[0;36m<module>\u001b[1;34m\u001b[0m\n\u001b[0;32m      2\u001b[0m \u001b[0menc\u001b[0m \u001b[1;33m=\u001b[0m \u001b[0mOneHotEncoder\u001b[0m\u001b[1;33m(\u001b[0m\u001b[0mhandle_unknown\u001b[0m\u001b[1;33m=\u001b[0m\u001b[1;34m'ignore'\u001b[0m\u001b[1;33m)\u001b[0m\u001b[1;33m\u001b[0m\u001b[1;33m\u001b[0m\u001b[0m\n\u001b[0;32m      3\u001b[0m \u001b[1;33m\u001b[0m\u001b[0m\n\u001b[1;32m----> 4\u001b[1;33m \u001b[0my_train_cat\u001b[0m \u001b[1;33m=\u001b[0m \u001b[0menc\u001b[0m\u001b[1;33m.\u001b[0m\u001b[0mfit_transform\u001b[0m\u001b[1;33m(\u001b[0m\u001b[0my_train\u001b[0m\u001b[1;33m.\u001b[0m\u001b[0mvalues\u001b[0m\u001b[1;33m.\u001b[0m\u001b[0mreshape\u001b[0m\u001b[1;33m(\u001b[0m\u001b[1;33m(\u001b[0m\u001b[0my_train\u001b[0m\u001b[1;33m.\u001b[0m\u001b[0mshape\u001b[0m\u001b[1;33m[\u001b[0m\u001b[1;36m0\u001b[0m\u001b[1;33m]\u001b[0m\u001b[1;33m,\u001b[0m \u001b[1;36m1\u001b[0m\u001b[1;33m)\u001b[0m\u001b[1;33m)\u001b[0m\u001b[1;33m)\u001b[0m\u001b[1;33m.\u001b[0m\u001b[0mtoarray\u001b[0m\u001b[1;33m(\u001b[0m\u001b[1;33m)\u001b[0m\u001b[1;33m\u001b[0m\u001b[1;33m\u001b[0m\u001b[0m\n\u001b[0m\u001b[0;32m      5\u001b[0m \u001b[0my_test_cat\u001b[0m \u001b[1;33m=\u001b[0m \u001b[0menc\u001b[0m\u001b[1;33m.\u001b[0m\u001b[0mtransform\u001b[0m\u001b[1;33m(\u001b[0m\u001b[0my_test\u001b[0m\u001b[1;33m.\u001b[0m\u001b[0mvalues\u001b[0m\u001b[1;33m.\u001b[0m\u001b[0mreshape\u001b[0m\u001b[1;33m(\u001b[0m\u001b[1;33m(\u001b[0m\u001b[0my_test\u001b[0m\u001b[1;33m.\u001b[0m\u001b[0mshape\u001b[0m\u001b[1;33m[\u001b[0m\u001b[1;36m0\u001b[0m\u001b[1;33m]\u001b[0m\u001b[1;33m,\u001b[0m \u001b[1;36m1\u001b[0m\u001b[1;33m)\u001b[0m\u001b[1;33m)\u001b[0m\u001b[1;33m)\u001b[0m\u001b[1;33m.\u001b[0m\u001b[0mtoarray\u001b[0m\u001b[1;33m(\u001b[0m\u001b[1;33m)\u001b[0m\u001b[1;33m\u001b[0m\u001b[1;33m\u001b[0m\u001b[0m\n\u001b[0;32m      6\u001b[0m \u001b[1;33m\u001b[0m\u001b[0m\n",
      "\u001b[1;31mNameError\u001b[0m: name 'y_train' is not defined"
     ]
    }
   ],
   "source": [
    "from sklearn.preprocessing import OneHotEncoder\n",
    "enc = OneHotEncoder(handle_unknown='ignore')\n",
    "\n",
    "y_train_cat = enc.fit_transform(y_train.values.reshape((y_train.shape[0], 1))).toarray()\n",
    "y_test_cat = enc.transform(y_test.values.reshape((y_test.shape[0], 1))).toarray()\n",
    "\n",
    "X_train_scaled, X_test_scaled = StandardScaler().fit_transform(X_train.values), StandardScaler().fit_transform(X_test.values)"
   ]
  },
  {
   "cell_type": "code",
   "execution_count": null,
   "metadata": {},
   "outputs": [],
   "source": [
    "nn, history = nn_model_training(X_train_scaled, y_train_cat, 20, 0.01)"
   ]
  },
  {
   "cell_type": "code",
   "execution_count": 20,
   "metadata": {},
   "outputs": [
    {
     "data": {
      "text/plain": [
       "array([[5540,    0,    0,    0,    0,    0,    0,    0],\n",
       "       [2158, 3203,    0,    0,    0,    0,    0,    0],\n",
       "       [   0, 3076, 2602,    0,    0,    0,    0,    0],\n",
       "       [   0,    0, 5071, 3910,    0,    0,    0,    0],\n",
       "       [   0,    0,    0, 8829, 3985,    0,    0,    0],\n",
       "       [   0,    0,    0,    0, 9645, 4117,    0,    0],\n",
       "       [   0,    0,    0,    0,    0, 8367, 3325,    0],\n",
       "       [   0,    0,    0,    0,    0,    0, 3332,   80]], dtype=int64)"
      ]
     },
     "execution_count": 20,
     "metadata": {},
     "output_type": "execute_result"
    }
   ],
   "source": [
    "predicted_proba = nn.predict(X_test_scaled)\n",
    "\n",
    "confusion_matrix(y_test_cat.argmax(axis=1), predicted_proba.argmax(axis=1))"
   ]
  },
  {
   "cell_type": "code",
   "execution_count": null,
   "metadata": {},
   "outputs": [],
   "source": []
  }
 ],
 "metadata": {
  "kernelspec": {
   "display_name": "Python 3",
   "language": "python",
   "name": "python3"
  },
  "language_info": {
   "codemirror_mode": {
    "name": "ipython",
    "version": 3
   },
   "file_extension": ".py",
   "mimetype": "text/x-python",
   "name": "python",
   "nbconvert_exporter": "python",
   "pygments_lexer": "ipython3",
   "version": "3.7.7"
  },
  "toc": {
   "base_numbering": 1,
   "nav_menu": {},
   "number_sections": true,
   "sideBar": true,
   "skip_h1_title": false,
   "title_cell": "Table of Contents",
   "title_sidebar": "Contents",
   "toc_cell": false,
   "toc_position": {},
   "toc_section_display": true,
   "toc_window_display": false
  }
 },
 "nbformat": 4,
 "nbformat_minor": 4
}
                                                                                                                                                                                                                                                                                                                                                                                                                                                                                                                                                                                                                        